{
 "cells": [
  {
   "cell_type": "markdown",
   "metadata": {},
   "source": [
    "# Homework 1 Question 3: Spectral Clustering"
   ]
  },
  {
   "cell_type": "markdown",
   "metadata": {},
   "source": [
    "## Import Packages and Data:"
   ]
  },
  {
   "cell_type": "code",
   "execution_count": 1,
   "metadata": {},
   "outputs": [],
   "source": [
    "import numpy as np\n",
    "from matplotlib import pyplot as plt\n",
    "from sklearn.cluster import KMeans\n",
    "import scipy\n",
    "from sklearn.metrics import pairwise_distances\n",
    "\n",
    "## Import Files\n",
    "nodes_file = []\n",
    "with open(\"nodes.txt\") as fid:\n",
    "    for line in fid.readlines():\n",
    "        name = line.replace(\"\\n\", \"\").split(\"\\t\")\n",
    "        nodes_file.append(name)\n",
    "\n",
    "with open(\"edges.txt\") as graph_file:\n",
    "    edges = [line.split() for line in graph_file]\n",
    "    edges = np.array(edges).astype(int)\n",
    "\n",
    "## Make numbers int\n",
    "for node in nodes_file:\n",
    "    node[0] = int(node[0])\n",
    "    node[2] = int(node[2])\n",
    "\n",
    "## Define n and k:\n",
    "n = 1490\n",
    "k = 2\n",
    "\n",
    "## Find isolated nodes\n",
    "isolated = []\n",
    "for node in nodes_file:\n",
    "    if node[0] not in edges:\n",
    "        isolated.append(node[0])\n",
    "\n",
    "## Create nodes variable without isolated points\n",
    "new_nodes = []\n",
    "for node in nodes_file:\n",
    "    if node[0] not in isolated:\n",
    "        new_nodes.append(node)\n",
    "    else: continue\n",
    "        \n",
    "## Check\n",
    "#print(new_nodes)\n",
    "#print(edges)\n",
    "#print(edges[0:4], edges[-4:])"
   ]
  },
  {
   "cell_type": "markdown",
   "metadata": {},
   "source": [
    "## Create Algorithm:"
   ]
  },
  {
   "cell_type": "code",
   "execution_count": 2,
   "metadata": {},
   "outputs": [],
   "source": [
    "## Create zero matrix\n",
    "zero_mat = np.zeros((n,n))\n",
    "\n",
    "## Create Adjacency matrix\n",
    "for edge in edges:\n",
    "    zero_mat[edge[0]-1][edge[1]-1] = 1\n",
    "    zero_mat[edge[1]-1][edge[0]-1] = 1\n",
    "## rows or columns of all zeros mean they're isolated\n",
    "A = np.delete(zero_mat, [iso-1 for iso in isolated], 0)\n",
    "A = np.delete(A, [iso-1 for iso in isolated], 1)\n",
    "    \n",
    "## Create Degree Matrix:\n",
    "D = np.zeros((n,n))\n",
    "for edge in edges:\n",
    "    D[edge[0]-1][edge[0]-1] += 1\n",
    "    D[edge[1]-1][edge[1]-1] += 1\n",
    "D = np.delete(D, [iso-1 for iso in isolated], 0)\n",
    "D = np.delete(D, [iso-1 for iso in isolated], 1)\n",
    "## Create Laplacian Matrix:\n",
    "L = D - A\n",
    "\n",
    "## Compute eigenvalues\n",
    "e, v, _ = scipy.linalg.svd(L)\n",
    "e = np.flip(e, 1)"
   ]
  },
  {
   "cell_type": "code",
   "execution_count": 11,
   "metadata": {},
   "outputs": [
    {
     "name": "stdout",
     "output_type": "stream",
     "text": [
      "Number of Clusters:  2\n",
      "Count in each cluster:\n",
      "[1222, 2]\n",
      " - - - - - Cluster  1 :  - - - - -\n",
      "Majority Label: 1 \n",
      " Count:  636\n",
      "Mismatch Rate:  0.4795417348608838\n",
      " - - - - - Cluster  2 :  - - - - -\n",
      "Majority Label: 0 \n",
      " Count:  2\n",
      "Mismatch Rate:  0.0\n",
      "\n",
      " Mismatch Rate:\n",
      "0.4795417348608838\n"
     ]
    }
   ],
   "source": [
    "## Update k\n",
    "def try_k(k, e):\n",
    "    e = e[:, 0:k]\n",
    "\n",
    "## K-Means:\n",
    "    model = KMeans(k)\n",
    "    model.fit(e)\n",
    "    labels = model.labels_\n",
    "    #print(labels)\n",
    "\n",
    "## Count in each cluster:\n",
    "    label_lst = []\n",
    "    for i in range(k):\n",
    "        label_lst.append(np.count_nonzero(labels == i))\n",
    "    print(\"Number of Clusters: \", k)\n",
    "    print(\"Count in each cluster:\")\n",
    "    print(label_lst)\n",
    "\n",
    "## Nodes in each Cluster:\n",
    "    for i in range(k):\n",
    "        print(\" -\"*5, \"Cluster \", i+1, \":\", \" -\"*5)\n",
    "        ind = [index for index, t in enumerate(labels) if t == i]\n",
    "        zero_count = 0\n",
    "        one_count = 0\n",
    "        for index in ind:\n",
    "            #print(new_nodes[index])\n",
    "            zero_count += np.count_nonzero(new_nodes[index][2] == 0)\n",
    "            one_count += np.count_nonzero(new_nodes[index][2] == 1)\n",
    "\n",
    "## Majority Label:\n",
    "        if zero_count > one_count:\n",
    "            print(\"Majority Label: 0\", '\\n', \"Count: \", zero_count)\n",
    "            print(\"Mismatch Rate: \", one_count/(zero_count+one_count))\n",
    "            if one_count/(zero_count+one_count) > 0:\n",
    "                mismatch = one_count/(zero_count+one_count)\n",
    "        elif one_count > zero_count:\n",
    "            print(\"Majority Label: 1\",'\\n', \"Count: \", one_count)\n",
    "            print(\"Mismatch Rate: \", zero_count/(zero_count+one_count))\n",
    "            if zero_count/(zero_count+one_count) > 0:\n",
    "                mismatch = zero_count/(zero_count+one_count)\n",
    "        elif one_count == zero_count:\n",
    "            continue\n",
    "            print(\"One and Zero Labels Tied\",'\\n', \"Count: \", one_count)\n",
    "    print('\\n', \"Mismatch Rate:\")\n",
    "    return mismatch\n",
    "\n",
    "print(try_k(2, e))\n",
    "\n",
    "## Uncomment below to iterate k values\n",
    "\n",
    "## Create mismatch rate y values:\n",
    "#mismatch_rate = []\n",
    "#for i in range(2,200):\n",
    "#    mismatch_rate.append(try_k(i, e))\n",
    "#print(mismatch_rate)"
   ]
  },
  {
   "cell_type": "code",
   "execution_count": 10,
   "metadata": {},
   "outputs": [
    {
     "data": {
      "image/png": "[encoded data removed]",
      "text/plain": [
       "<Figure size 432x288 with 1 Axes>"
      ]
     },
     "metadata": {
      "needs_background": "light"
     },
     "output_type": "display_data"
    }
   ],
   "source": [
    "plt.plot(range(2,200), mismatch_rate)\n",
    "plt.title(\"Finding Optimal K\")\n",
    "plt.xlabel(\"K\")\n",
    "plt.ylabel(\"Mismatch Rate(decimal)\")\n",
    "plt.show()"
   ]
  },
  {
   "cell_type": "code",
   "execution_count": 84,
   "metadata": {},
   "outputs": [
    {
     "name": "stdout",
     "output_type": "stream",
     "text": [
      "0.047619047619047616\n",
      "0.047619047619047616\n",
      "0.047619047619047616\n"
     ]
    }
   ],
   "source": [
    "## K Vales for Smallest Mismatch Rate:\n",
    "print(try_k(26, e))\n",
    "print(try_k(27, e))\n",
    "print(try_k(28, e))"
   ]
  }
 ],
 "metadata": {
  "kernelspec": {
   "display_name": "Python 3",
   "language": "python",
   "name": "python3"
  },
  "language_info": {
   "codemirror_mode": {
    "name": "ipython",
    "version": 3
   },
   "file_extension": ".py",
   "mimetype": "text/x-python",
   "name": "python",
   "nbconvert_exporter": "python",
   "pygments_lexer": "ipython3",
   "version": "3.7.6"
  }
 },
 "nbformat": 4,
 "nbformat_minor": 4
}
